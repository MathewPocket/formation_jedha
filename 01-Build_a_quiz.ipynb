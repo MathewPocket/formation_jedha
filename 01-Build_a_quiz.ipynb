{
 "cells": [
  {
   "cell_type": "markdown",
   "metadata": {
    "colab_type": "text",
    "id": "FY347VxWs_bJ"
   },
   "source": [
    "# Build a quizz\n",
    "\n",
    "---\n",
    "\n",
    "\n"
   ]
  },
  {
   "cell_type": "markdown",
   "metadata": {
    "colab_type": "text",
    "id": "qJizpyqVwYnF"
   },
   "source": [
    "Let's tackle our first project together. Find a partner and start coding a quiz together! Your program should: \n",
    "\n",
    "1. Ask a question to a user via the console \n",
    "2. Verify whether the answer is correct or not \n",
    "3. If the answer is correct, you should print out: `Good job! This is the right answer`\n",
    "\n",
    "* Else, it should print out : `Too bad! that is not the correct answer`\n",
    "\n",
    "4. Ask three questions following this model.\n",
    "\n"
   ]
  },
  {
   "cell_type": "code",
   "execution_count": 32,
   "metadata": {
    "colab": {
     "base_uri": "https://localhost:8080/",
     "height": 136
    },
    "colab_type": "code",
    "id": "EQxWuVl7yFoU",
    "outputId": "cf3ee10c-9d8f-4d96-82b0-f730321d4a2f"
   },
   "outputs": [
    {
     "name": "stdout",
     "output_type": "stream",
     "text": [
      "Quelle est la capitale de la France ?\n",
      "1 - Paris\n",
      "2 - Marseille\n",
      "3 - NewYork\n",
      "( 3 essais restant)\n",
      "Mauvaise réponse\n",
      "( 2 essais restant)\n",
      "Mauvaise réponse\n",
      "( 1 essais restant)\n",
      "Great Good answer!!\n",
      "Quelle est la capitale de la France ?\n",
      "1 - Paris\n",
      "2 - Marseille\n",
      "3 - NewYork\n",
      "( 1 essais restant)\n",
      "Great Good answer!!\n",
      "Quelle est la capitale de la France ?\n",
      "1 - Paris\n",
      "2 - Marseille\n",
      "3 - NewYork\n",
      "( 1 essais restant)\n",
      "Great Good answer!!\n",
      "So Good, you win the game !\n"
     ]
    }
   ],
   "source": [
    "#Each question is a dictionnary of question, a list of answer and the correct answer\n",
    "question_1 = { \"question\" : \"Quelle est la capitale de la France\", \"reponses\" : [\"Paris\", \"Marseille\", \"NewYork\"], \"bonne_reponse\" : 0}\n",
    "question_2 = { \"question\" : \"Quelle est la capitale de la France\", \"reponses\" : [\"Paris\", \"Marseille\", \"NewYork\"], \"bonne_reponse\" : 0}\n",
    "question_3 = { \"question\" : \"Quelle est la capitale de la France\", \"reponses\" : [\"Paris\", \"Marseille\", \"NewYork\"], \"bonne_reponse\" : 0}\n",
    "\n",
    "#Questionnaire, une liste de question \n",
    "questionnaire = [question_1,question_2,question_3]\n",
    "\n",
    "#affichage du questionnaire\n",
    "#print(questionnaire)\n",
    "\n",
    "def display_question(question):\n",
    "    print(question[\"question\"],\"?\")\n",
    "    for index, rep in enumerate(question[\"reponses\"]):\n",
    "        print(index+1,\"-\",rep)\n",
    "    get_answer(question)\n",
    "    return \n",
    "\n",
    "def get_answer(question):\n",
    "    global nb_of_try\n",
    "    while nb_of_try > 0:\n",
    "        print(\"(\",nb_of_try,\"essais restant)\")\n",
    "        v_get = input(\"Merci d'indiquer votre réponse\")\n",
    "        try:\n",
    "            #try converting in int\n",
    "            v_get = int(v_get)\n",
    "            #Verifying positive\n",
    "            if v_get <= 0:\n",
    "                print(\"Ok its a number... but negative\")\n",
    "                continue\n",
    "            if v_get > len(question[\"reponses\"]):\n",
    "                print(\"You should answer something under or equal to\",len(question[\"reponses\"]))\n",
    "                continue\n",
    "            #Check if its the right\n",
    "            if v_get == question[\"bonne_reponse\"]+1:\n",
    "                print(\"Great Good answer!!\")    \n",
    "                break\n",
    "            else:\n",
    "                print(\"Mauvaise réponse\")\n",
    "                nb_of_try -= 1\n",
    "                \"\"\"\n",
    "                if nb_of_try == 0:\n",
    "                    nb_of_try -= 1\n",
    "                    break\n",
    "                else:\n",
    "                    nb_of_try -= 1\n",
    "                    continue\n",
    "                \"\"\"\n",
    "        except ValueError:\n",
    "            print(\"Not a number try again!!\")\n",
    "    return \n",
    "\n",
    "#Main\n",
    "nb_of_try = 3\n",
    "for quest in questionnaire:\n",
    "    display_question(quest)\n",
    "    if nb_of_try <= 0:\n",
    "        print(\"Too bad, you lost the game !\")\n",
    "        break\n",
    "\n",
    "if nb_of_try > 0:\n",
    "    print(\"So Good, you win the game !\")\n",
    "    \n"
   ]
  },
  {
   "cell_type": "markdown",
   "metadata": {
    "colab_type": "text",
    "id": "sLMbYgaOyxiX"
   },
   "source": [
    "There's a problem with our quizz : if the user has not given the right answer, the program goes to next question. We would rather like to ask again the same question if the answer was wrong.\n",
    "\n",
    "5. Using a `while` loop, make sure that the same question will be asked again when the answer was wrong\n",
    "\n",
    "6. Rewrite your code such that this behaviour is applied to all questions."
   ]
  },
  {
   "cell_type": "code",
   "execution_count": null,
   "metadata": {
    "colab": {
     "base_uri": "https://localhost:8080/",
     "height": 170
    },
    "colab_type": "code",
    "id": "csyxqJzBxPfN",
    "outputId": "0e671bec-2b70-424e-f110-d4792423dd7a"
   },
   "outputs": [],
   "source": []
  },
  {
   "cell_type": "markdown",
   "metadata": {
    "colab_type": "text",
    "id": "nh4voWn8x3dM"
   },
   "source": [
    "Now, we would like to tackle a last problem : we want to allow only 3 wrong answers (among all questions).\n",
    "\n",
    "7. Improve your code : if the user makes 3 wrong answers, the program should stop and print (\"Too bad, you lost the game !\")\n"
   ]
  },
  {
   "cell_type": "code",
   "execution_count": 3,
   "metadata": {
    "colab": {
     "base_uri": "https://localhost:8080/",
     "height": 170
    },
    "colab_type": "code",
    "id": "adKPQe1Hsi2g",
    "outputId": "45d36fc8-90ae-4f00-b73a-73b1e6e57e6e",
    "tags": []
   },
   "outputs": [
    {
     "name": "stdout",
     "output_type": "stream",
     "text": [
      "Welcome to our quizz!\n",
      "You have 3 lives.\n",
      "\n",
      "Question 1:\n",
      "Your answer : 6\n",
      "Sorry, you have 2 chances left\n",
      "Your answer : 2\n",
      "Question 2:\n",
      "Your answer : 1980\n",
      "Sorry, you have 1 chances left\n",
      "Your answer : 1976\n",
      "Question 3:\n",
      "Your answer : steve jobs\n",
      "Sorry, you have 0 chances left\n",
      "Oh no, you lost the quiz...\n"
     ]
    }
   ],
   "source": []
  },
  {
   "cell_type": "code",
   "execution_count": null,
   "metadata": {
    "colab": {},
    "colab_type": "code",
    "id": "rA-XJKh-orgc"
   },
   "outputs": [],
   "source": [
    "Print(\"modification effectuée a 14:21\")"
   ]
  },
  {
   "cell_type": "code",
   "execution_count": null,
   "metadata": {},
   "outputs": [],
   "source": [
    "print(\"essaie\")"
   ]
  }
 ],
 "metadata": {
  "colab": {
   "name": "Construire un quiz - SOLUTIONS S1-1A.ipynb",
   "provenance": []
  },
  "kernelspec": {
   "display_name": "base",
   "language": "python",
   "name": "python3"
  },
  "language_info": {
   "codemirror_mode": {
    "name": "ipython",
    "version": 3
   },
   "file_extension": ".py",
   "mimetype": "text/x-python",
   "name": "python",
   "nbconvert_exporter": "python",
   "pygments_lexer": "ipython3",
   "version": "3.9.13 (main, Aug 25 2022, 23:29:09) \n[GCC 11.2.0]"
  },
  "vscode": {
   "interpreter": {
    "hash": "d4d1e4263499bec80672ea0156c357c1ee493ec2b1c70f0acce89fc37c4a6abe"
   }
  }
 },
 "nbformat": 4,
 "nbformat_minor": 1
}
